{
 "cells": [
  {
   "cell_type": "markdown",
   "id": "291fe1d6",
   "metadata": {},
   "source": [
    "# Overview"
   ]
  },
  {
   "cell_type": "markdown",
   "id": "c34ca032",
   "metadata": {},
   "source": [
    "# Business Case"
   ]
  },
  {
   "cell_type": "markdown",
   "id": "f3709dbd",
   "metadata": {},
   "source": [
    "# Data Understanding"
   ]
  },
  {
   "cell_type": "markdown",
   "id": "36691fed",
   "metadata": {},
   "source": [
    "## Limitations"
   ]
  },
  {
   "cell_type": "markdown",
   "id": "35edcbee",
   "metadata": {},
   "source": [
    "# Objectives"
   ]
  },
  {
   "cell_type": "markdown",
   "id": "a30730f3",
   "metadata": {},
   "source": [
    "# Data Collection and EDA"
   ]
  },
  {
   "cell_type": "markdown",
   "id": "c2130989",
   "metadata": {},
   "source": [
    "# Hypothesis Testing?"
   ]
  },
  {
   "cell_type": "markdown",
   "id": "e546c26a",
   "metadata": {},
   "source": [
    "# Conclusions"
   ]
  },
  {
   "cell_type": "markdown",
   "id": "1ca59429",
   "metadata": {},
   "source": [
    "## Next Steps"
   ]
  },
  {
   "cell_type": "markdown",
   "id": "26c95860",
   "metadata": {},
   "source": [
    "## Contact Information"
   ]
  },
  {
   "cell_type": "markdown",
   "id": "59f8f320",
   "metadata": {},
   "source": []
  },
  {
   "cell_type": "markdown",
   "id": "915c62c2",
   "metadata": {},
   "source": []
  },
  {
   "cell_type": "markdown",
   "id": "d32c6575",
   "metadata": {},
   "source": []
  },
  {
   "cell_type": "markdown",
   "id": "39660332",
   "metadata": {},
   "source": []
  },
  {
   "cell_type": "markdown",
   "id": "7adf7030",
   "metadata": {},
   "source": []
  },
  {
   "cell_type": "markdown",
   "id": "1c5eee9c",
   "metadata": {},
   "source": []
  },
  {
   "cell_type": "markdown",
   "id": "959beeaf",
   "metadata": {},
   "source": []
  },
  {
   "cell_type": "markdown",
   "id": "e57ef77f",
   "metadata": {},
   "source": []
  }
 ],
 "metadata": {
  "kernelspec": {
   "display_name": "Python 3 (ipykernel)",
   "language": "python",
   "name": "python3"
  },
  "language_info": {
   "codemirror_mode": {
    "name": "ipython",
    "version": 3
   },
   "file_extension": ".py",
   "mimetype": "text/x-python",
   "name": "python",
   "nbconvert_exporter": "python",
   "pygments_lexer": "ipython3",
   "version": "3.9.13"
  }
 },
 "nbformat": 4,
 "nbformat_minor": 5
}
